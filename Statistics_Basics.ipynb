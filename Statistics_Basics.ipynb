{
  "nbformat": 4,
  "nbformat_minor": 0,
  "metadata": {
    "colab": {
      "provenance": []
    },
    "kernelspec": {
      "name": "python3",
      "display_name": "Python 3"
    },
    "language_info": {
      "name": "python"
    }
  },
  "cells": [
    {
      "cell_type": "markdown",
      "source": [
        "# Statistics Basics\n",
        "\n",
        "1. What is statistics, and why is it important?\n",
        "-  Statistics is the science of collecting, analyzing, interpreting, and presenting data. It is important because it helps in making informed decisions, identifying patterns, and predicting future trends.\n",
        "\n",
        "2. What are the two main types of statistics?\n",
        "-  Descriptive statistics and inferential statistics.\n",
        "\n",
        "3. What are descriptive statistics?\n",
        "-  Descriptive statistics summarize and describe the main features of a dataset through measures like mean, median, mode, variance, and visualizations.\n",
        "\n",
        "4. What is inferential statistics?\n",
        "-  Inferential statistics use data from a sample to make generalizations, predictions, or inferences about a population.\n",
        "\n",
        "5. What is sampling in statistics?\n",
        "-  Sampling is the process of selecting a subset of individuals from a population to estimate characteristics of the whole population.\n",
        "\n",
        "6. What are the different types of sampling methods?\n",
        "-  Simple random sampling, stratified sampling, systematic sampling, cluster sampling, and convenience sampling.\n",
        "\n",
        "7. What is the difference between random and non-random sampling?\n",
        "-  Random sampling gives every member of the population an equal chance of selection, while non-random sampling does not.\n",
        "\n",
        "8. Define and give examples of qualitative and quantitative data.\n",
        "-  Qualitative data describes categories or qualities (e.g., colors, names). Quantitative data represents numerical values (e.g., height, weight).\n",
        "\n",
        "9. What are the different types of data in statistics?\n",
        "-  Nominal, ordinal, interval, and ratio data.\n",
        "\n",
        "10. Explain nominal, ordinal, interval, and ratio levels of measurement.\n",
        "- - Nominal: categories without order (e.g., colors).\n",
        " - Ordinal: ordered categories (e.g., rankings).\n",
        " - Interval: numeric scales with equal intervals but no true zero (e.g., temperature in °C).\n",
        " - Ratio: numeric scales with equal intervals and a true zero (e.g., weight).\n",
        "\n",
        "11. What is the measure of central tendency?\n",
        "-  It is a measure that identifies the center or typical value of a dataset.\n",
        "\n",
        "12. Define mean, median, and mode.\n",
        "- - Mean: average of values.\n",
        " - Median: middle value when data is ordered.\n",
        " - Mode: most frequent value.\n",
        "\n",
        "13. What is the significance of the measure of central tendency?\n",
        "-  It provides a single value that represents the entire dataset, useful for comparison and summarization.\n",
        "\n",
        "14. What is variance, and how is it calculated?\n",
        "-  Variance measures the average squared deviation from the mean. Calculated as the sum of squared differences from the mean divided by the number of observations (or n-1 for samples).\n",
        "\n",
        "15. What is standard deviation, and why is it important?\n",
        "-  Standard deviation is the square root of variance and measures how spread out the values are. It is important for understanding variability in data.\n",
        "\n",
        "16. Define and explain the term range in statistics.\n",
        "-  Range is the difference between the maximum and minimum values in a dataset.\n",
        "\n",
        "17. What is the difference between variance and standard deviation?\n",
        "-  Variance is in squared units; standard deviation is in the original units of the data.\n",
        "\n",
        "18. What is skewness in a dataset?\n",
        "-  Skewness measures the asymmetry of the data distribution.\n",
        "\n",
        "19. What does it mean if a dataset is positively or negatively skewed?\n",
        "-  Positive skew: tail on the right side is longer.\n",
        "Negative skew: tail on the left side is longer.\n",
        "\n",
        "20. Define and explain kurtosis.\n",
        "-  Kurtosis measures the \"tailedness\" of the distribution compared to a normal distribution.\n",
        "\n",
        "21. What is the purpose of covariance?\n",
        "-  To measure how two variables change together.\n",
        "\n",
        "22. What does correlation measure in statistics?\n",
        "-  It measures the strength and direction of the relationship between two variables.\n",
        "\n",
        "23. What is the difference between covariance and correlation?\n",
        "-  Covariance measures joint variability; correlation standardizes it to a range between -1 and 1.\n",
        "\n",
        "24. What are some real-world applications of statistics?\n",
        "-  Business forecasting, quality control, medical research, market analysis, sports performance analysis.\n",
        "\n",
        "#  Practical\n",
        "\n",
        "1. How do you calculate the mean, median, and mode of a dataset."
      ],
      "metadata": {
        "id": "LlYKR4_dudmf"
      }
    },
    {
      "cell_type": "code",
      "source": [
        "import numpy as np\n",
        "from scipy import stats\n",
        "\n",
        "data = [12, 15, 20, 22, 25, 28, 30]\n",
        "mean = np.mean(data)\n",
        "median = np.median(data)\n",
        "mode = stats.mode(data, keepdims=True).mode[0]\n",
        "print(mean, median, mode)\n"
      ],
      "metadata": {
        "id": "B5chfEtK0Xrz"
      },
      "execution_count": null,
      "outputs": []
    },
    {
      "cell_type": "markdown",
      "source": [
        "2. Write a Python program to compute the variance and standard deviation of a dataset."
      ],
      "metadata": {
        "id": "vDmHAtpK0YXK"
      }
    },
    {
      "cell_type": "code",
      "source": [
        "variance = np.var(data, ddof=1)  # sample variance\n",
        "std_dev = np.std(data, ddof=1)   # sample std deviation\n",
        "print(variance, std_dev)\n"
      ],
      "metadata": {
        "id": "tzvxt7qV0gdh"
      },
      "execution_count": null,
      "outputs": []
    },
    {
      "cell_type": "markdown",
      "source": [
        "3. Create a dataset and classify it into nominal, ordinal, interval, and ratio types."
      ],
      "metadata": {
        "id": "TbbS8Yrx0hBr"
      }
    },
    {
      "cell_type": "code",
      "source": [
        "nominal = [\"Red\", \"Blue\", \"Green\"]      # categories\n",
        "ordinal = [\"Small\", \"Medium\", \"Large\"]  # ranked order\n",
        "interval = [10, 20, 30]                 # equal intervals, no true zero\n",
        "ratio = [5, 10, 15]                      # equal intervals, true zero\n",
        "print(nominal, ordinal, interval, ratio)\n"
      ],
      "metadata": {
        "id": "KnUeKRKK0oO-"
      },
      "execution_count": null,
      "outputs": []
    },
    {
      "cell_type": "markdown",
      "source": [
        "4. Implement sampling techniques like random sampling and stratified sampling."
      ],
      "metadata": {
        "id": "ilILFvG_0omH"
      }
    },
    {
      "cell_type": "code",
      "source": [
        "import pandas as pd\n",
        "\n",
        "df = pd.DataFrame({'id': range(1, 11), 'group': ['A','B']*5})\n",
        "random_sample = df.sample(n=4)\n",
        "stratified_sample = df.groupby('group', group_keys=False).apply(lambda x: x.sample(2))\n",
        "print(random_sample, stratified_sample)\n"
      ],
      "metadata": {
        "id": "JNqB9UAX0zr8"
      },
      "execution_count": null,
      "outputs": []
    },
    {
      "cell_type": "markdown",
      "source": [
        "5. Write a Python function to calculate the range of a dataset."
      ],
      "metadata": {
        "id": "XdRtXjsJ00NI"
      }
    },
    {
      "cell_type": "code",
      "source": [
        "def data_range(x):\n",
        "    return max(x) - min(x)\n",
        "print(data_range(data))\n"
      ],
      "metadata": {
        "id": "KILI1dA10-Jq"
      },
      "execution_count": null,
      "outputs": []
    },
    {
      "cell_type": "markdown",
      "source": [
        "6. Create a dataset and plot its histogram to visualize skewness."
      ],
      "metadata": {
        "id": "tjKxEZ6M0-uy"
      }
    },
    {
      "cell_type": "code",
      "source": [
        "import matplotlib.pyplot as plt\n",
        "plt.hist(data, bins=5, edgecolor='black')\n",
        "plt.show()\n"
      ],
      "metadata": {
        "id": "q6j1AHJB1GbA"
      },
      "execution_count": null,
      "outputs": []
    },
    {
      "cell_type": "markdown",
      "source": [
        " 7. Calculate skewness and kurtosis of a dataset using Python libraries."
      ],
      "metadata": {
        "id": "FQm2tBH91HBL"
      }
    },
    {
      "cell_type": "code",
      "source": [
        "print(stats.skew(data))\n",
        "print(stats.kurtosis(data))\n"
      ],
      "metadata": {
        "id": "w-lt-B-k1P_o"
      },
      "execution_count": null,
      "outputs": []
    },
    {
      "cell_type": "markdown",
      "source": [
        "8. Generate a dataset and demonstrate positive and negative skewness."
      ],
      "metadata": {
        "id": "KJJIkABE1Q1q"
      }
    },
    {
      "cell_type": "code",
      "source": [
        "pos_skew = np.random.exponential(size=1000)\n",
        "neg_skew = -np.random.exponential(size=1000)\n",
        "plt.hist(pos_skew, bins=30); plt.show()\n",
        "plt.hist(neg_skew, bins=30); plt.show()\n"
      ],
      "metadata": {
        "id": "IOJMnvzr1XqK"
      },
      "execution_count": null,
      "outputs": []
    },
    {
      "cell_type": "markdown",
      "source": [
        "9. Write a Python script to calculate covariance between two datasets."
      ],
      "metadata": {
        "id": "lvaSIsLq1YKk"
      }
    },
    {
      "cell_type": "code",
      "source": [
        "data2 = [5, 7, 12, 14, 18, 20, 24]\n",
        "cov = np.cov(data, data2)[0, 1]\n",
        "print(cov)\n"
      ],
      "metadata": {
        "id": "uPmi6lqz1f9m"
      },
      "execution_count": null,
      "outputs": []
    },
    {
      "cell_type": "markdown",
      "source": [
        "10. Write a Python script to calculate the correlation coefficient between two datasets."
      ],
      "metadata": {
        "id": "1GRvTj2c1gtm"
      }
    },
    {
      "cell_type": "code",
      "source": [
        "corr = np.corrcoef(data, data2)[0, 1]\n",
        "print(corr)\n"
      ],
      "metadata": {
        "id": "HVx-IPOU2LKA"
      },
      "execution_count": null,
      "outputs": []
    },
    {
      "cell_type": "markdown",
      "source": [
        "11. Create a scatter plot to visualize the relationship between two variables."
      ],
      "metadata": {
        "id": "Y5wLeqZm2LkT"
      }
    },
    {
      "cell_type": "code",
      "source": [
        "plt.scatter(data, data2)\n",
        "plt.xlabel(\"Data 1\")\n",
        "plt.ylabel(\"Data 2\")\n",
        "plt.show()\n"
      ],
      "metadata": {
        "id": "cLaSyqMJ2TpR"
      },
      "execution_count": null,
      "outputs": []
    },
    {
      "cell_type": "markdown",
      "source": [
        "12. Implement and compare simple random sampling and systematic sampling."
      ],
      "metadata": {
        "id": "VkzW7tDT2UOE"
      }
    },
    {
      "cell_type": "code",
      "source": [
        "random_sample = np.random.choice(data, size=3, replace=False)\n",
        "systematic_sample = data[::2]\n",
        "print(random_sample, systematic_sample)\n"
      ],
      "metadata": {
        "id": "2q0Qe_5y3c7P"
      },
      "execution_count": null,
      "outputs": []
    },
    {
      "cell_type": "markdown",
      "source": [
        "13. Calculate the mean, median, and mode of grouped data."
      ],
      "metadata": {
        "id": "9hEHo0dE3bkD"
      }
    },
    {
      "cell_type": "code",
      "source": [
        "\n",
        "df_grouped = pd.DataFrame({'values': data})\n",
        "print(df_grouped['values'].mean(), df_grouped['values'].median(), df_grouped['values'].mode()[0])\n"
      ],
      "metadata": {
        "id": "vFQlHJPS3iJk"
      },
      "execution_count": null,
      "outputs": []
    },
    {
      "cell_type": "markdown",
      "source": [
        "14. Simulate data using Python and calculate its central tendency and dispersion."
      ],
      "metadata": {
        "id": "riWQroMT3im2"
      }
    },
    {
      "cell_type": "code",
      "source": [
        "sim_data = np.random.randint(1, 100, 20)\n",
        "print(np.mean(sim_data), np.median(sim_data), stats.mode(sim_data, keepdims=True).mode[0])\n",
        "print(np.var(sim_data, ddof=1), np.std(sim_data, ddof=1))\n"
      ],
      "metadata": {
        "id": "wjXeeCMa3pHZ"
      },
      "execution_count": null,
      "outputs": []
    },
    {
      "cell_type": "markdown",
      "source": [
        "15. Use NumPy or pandas to summarize a dataset’s descriptive statistics."
      ],
      "metadata": {
        "id": "oSLv2diG3pbc"
      }
    },
    {
      "cell_type": "code",
      "source": [
        "df = pd.DataFrame({'Data': data})\n",
        "print(df.describe())\n"
      ],
      "metadata": {
        "id": "WkQulAv13v5u"
      },
      "execution_count": null,
      "outputs": []
    },
    {
      "cell_type": "markdown",
      "source": [
        "16. Plot a boxplot to understand the spread and identify outliers."
      ],
      "metadata": {
        "id": "32nciLQE3wVv"
      }
    },
    {
      "cell_type": "code",
      "source": [
        "import seaborn as sns\n",
        "sns.boxplot(x=data)\n",
        "plt.show()\n"
      ],
      "metadata": {
        "id": "8ygI-5sl30yv"
      },
      "execution_count": null,
      "outputs": []
    },
    {
      "cell_type": "markdown",
      "source": [
        "17. Calculate the interquartile range (IQR) of a dataset."
      ],
      "metadata": {
        "id": "SF5r52uV31F1"
      }
    },
    {
      "cell_type": "code",
      "source": [
        "\n",
        "Q1, Q3 = np.percentile(data, [25, 75])\n",
        "IQR = Q3 - Q1\n",
        "print(IQR)\n"
      ],
      "metadata": {
        "id": "H-jmMmnu34Vc"
      },
      "execution_count": null,
      "outputs": []
    },
    {
      "cell_type": "markdown",
      "source": [
        "18. Implement Z-score normalization and explain its significance."
      ],
      "metadata": {
        "id": "R88SHv_n35K0"
      }
    },
    {
      "cell_type": "code",
      "source": [
        "z_scores = stats.zscore(data)\n",
        "print(z_scores)\n"
      ],
      "metadata": {
        "id": "k5pMhvRr39Df"
      },
      "execution_count": null,
      "outputs": []
    },
    {
      "cell_type": "markdown",
      "source": [
        "19. Compare two datasets using their standard deviations."
      ],
      "metadata": {
        "id": "bsXGynF-39ni"
      }
    },
    {
      "cell_type": "code",
      "source": [
        "print(np.std(data, ddof=1), np.std(data2, ddof=1))\n"
      ],
      "metadata": {
        "id": "j2Vv8bd_4AfG"
      },
      "execution_count": null,
      "outputs": []
    },
    {
      "cell_type": "markdown",
      "source": [
        "20. Write a Python program to visualize covariance using a heatmap."
      ],
      "metadata": {
        "id": "EfGEtwCJ4A8R"
      }
    },
    {
      "cell_type": "code",
      "source": [
        "\n",
        "cov_matrix = np.cov(data, data2)\n",
        "sns.heatmap(cov_matrix, annot=True, cmap=\"coolwarm\")\n",
        "plt.show()\n"
      ],
      "metadata": {
        "id": "kjBRw1XQ4Ef5"
      },
      "execution_count": null,
      "outputs": []
    },
    {
      "cell_type": "markdown",
      "source": [
        "21. Use seaborn to create a correlation matrix for a dataset."
      ],
      "metadata": {
        "id": "79lIaV004E9M"
      }
    },
    {
      "cell_type": "code",
      "source": [
        "df_corr = pd.DataFrame({'Data1': data, 'Data2': data2})\n",
        "sns.heatmap(df_corr.corr(), annot=True, cmap=\"coolwarm\")\n",
        "plt.show()\n"
      ],
      "metadata": {
        "id": "NCX1fv6k4H6t"
      },
      "execution_count": null,
      "outputs": []
    },
    {
      "cell_type": "markdown",
      "source": [
        "22. Generate a dataset and implement both variance and standard deviation computations."
      ],
      "metadata": {
        "id": "p6i1NpSE4IUM"
      }
    },
    {
      "cell_type": "code",
      "source": [
        "rand_data = np.random.randint(1, 50, 10)\n",
        "print(np.var(rand_data, ddof=1), np.std(rand_data, ddof=1))\n"
      ],
      "metadata": {
        "id": "pf84L66R4Mjw"
      },
      "execution_count": null,
      "outputs": []
    },
    {
      "cell_type": "markdown",
      "source": [
        "23. Visualize skewness and kurtosis using Python libraries like matplotlib or seaborn."
      ],
      "metadata": {
        "id": "M_HLG73p4NB1"
      }
    },
    {
      "cell_type": "code",
      "source": [
        "sns.histplot(data, kde=True)\n",
        "plt.show()\n",
        "print(stats.skew(data), stats.kurtosis(data))\n"
      ],
      "metadata": {
        "id": "buxcfPtd4RUT"
      },
      "execution_count": null,
      "outputs": []
    },
    {
      "cell_type": "markdown",
      "source": [
        "24. Implement the Pearson and Spearman correlation coefficients for a dataset."
      ],
      "metadata": {
        "id": "n2tsbADP4Rx0"
      }
    },
    {
      "cell_type": "code",
      "source": [
        "pearson_corr, _ = stats.pearsonr(data, data2)\n",
        "spearman_corr, _ = stats.spearmanr(data, data2)\n",
        "print(pearson_corr, spearman_corr)\n"
      ],
      "metadata": {
        "id": "1dzizoV_4ZsT"
      },
      "execution_count": null,
      "outputs": []
    }
  ]
}